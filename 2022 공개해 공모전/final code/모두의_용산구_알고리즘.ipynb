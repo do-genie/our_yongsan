{
  "cells": [
    {
      "cell_type": "code",
      "execution_count": 419,
      "metadata": {
        "colab": {
          "base_uri": "https://localhost:8080/",
          "height": 375
        },
        "id": "083-5QDM3IUV",
        "outputId": "bedfba40-1916-4c86-db5b-8bae5e786c5c"
      },
      "outputs": [
        {
          "name": "stdout",
          "output_type": "stream",
          "text": [
            "Requirement already satisfied: haversine in /usr/local/lib/python3.7/dist-packages (2.5.1)\n",
            "Requirement already satisfied: setuptools in /usr/local/lib/python3.7/dist-packages (57.4.0)\n",
            "Collecting setuptools\n",
            "  Downloading setuptools-60.9.3-py3-none-any.whl (1.1 MB)\n",
            "\u001b[K     |████████████████████████████████| 1.1 MB 5.2 MB/s \n",
            "\u001b[?25hInstalling collected packages: setuptools\n",
            "  Attempting uninstall: setuptools\n",
            "    Found existing installation: setuptools 57.4.0\n",
            "    Uninstalling setuptools-57.4.0:\n",
            "      Successfully uninstalled setuptools-57.4.0\n",
            "\u001b[31mERROR: pip's dependency resolver does not currently take into account all the packages that are installed. This behaviour is the source of the following dependency conflicts.\n",
            "tensorflow 2.8.0 requires tf-estimator-nightly==2.8.0.dev2021122109, which is not installed.\n",
            "datascience 0.10.6 requires folium==0.2.1, but you have folium 0.8.3 which is incompatible.\u001b[0m\n",
            "Successfully installed setuptools-60.9.3\n"
          ]
        },
        {
          "data": {
            "application/vnd.colab-display-data+json": {
              "pip_warning": {
                "packages": [
                  "pkg_resources"
                ]
              }
            }
          },
          "metadata": {},
          "output_type": "display_data"
        },
        {
          "name": "stdout",
          "output_type": "stream",
          "text": [
            "Requirement already satisfied: shapely in /usr/local/lib/python3.7/dist-packages (1.8.1)\n"
          ]
        }
      ],
      "source": [
        "!pip install haversine\n",
        "!pip3 install --upgrade setuptools\n",
        "!pip3 install shapely"
      ]
    },
    {
      "cell_type": "code",
      "execution_count": 420,
      "metadata": {
        "id": "2iXISMKFkmAX"
      },
      "outputs": [],
      "source": [
        "import pandas as pd\n",
        "import sys\n",
        "import math\n",
        "from scipy.spatial import distance\n",
        "from functools import reduce\n",
        "import time\n",
        "import requests\n",
        "import logging\n",
        "import requests\n",
        "from haversine import haversine\n",
        "from shapely.geometry import Point, Polygon"
      ]
    },
    {
      "cell_type": "code",
      "execution_count": 439,
      "metadata": {
        "colab": {
          "base_uri": "https://localhost:8080/",
          "height": 331
        },
        "id": "WsgfEk7Orh9U",
        "outputId": "2d77a44c-aa59-4fdf-c82f-886f1f5a1d9f"
      },
      "outputs": [
        {
          "data": {
            "text/html": [
              "\n",
              "  <div id=\"df-30a7a0e3-f679-4439-91d9-b5fcc5b45c17\">\n",
              "    <div class=\"colab-df-container\">\n",
              "      <div>\n",
              "<style scoped>\n",
              "    .dataframe tbody tr th:only-of-type {\n",
              "        vertical-align: middle;\n",
              "    }\n",
              "\n",
              "    .dataframe tbody tr th {\n",
              "        vertical-align: top;\n",
              "    }\n",
              "\n",
              "    .dataframe thead th {\n",
              "        text-align: right;\n",
              "    }\n",
              "</style>\n",
              "<table border=\"1\" class=\"dataframe\">\n",
              "  <thead>\n",
              "    <tr style=\"text-align: right;\">\n",
              "      <th></th>\n",
              "      <th>분류</th>\n",
              "      <th>도로명주소</th>\n",
              "      <th>상세주소</th>\n",
              "      <th>경도</th>\n",
              "      <th>위도</th>\n",
              "    </tr>\n",
              "  </thead>\n",
              "  <tbody>\n",
              "    <tr>\n",
              "      <th>0</th>\n",
              "      <td>병원</td>\n",
              "      <td>서울특별시 용산구 효창동 5-99</td>\n",
              "      <td>연세세림내과</td>\n",
              "      <td>126.962077</td>\n",
              "      <td>37.540457</td>\n",
              "    </tr>\n",
              "    <tr>\n",
              "      <th>1</th>\n",
              "      <td>편의점</td>\n",
              "      <td>서울특별시 용산구 갈월동 16</td>\n",
              "      <td>CU숙대입구역점</td>\n",
              "      <td>126.972167</td>\n",
              "      <td>37.545525</td>\n",
              "    </tr>\n",
              "    <tr>\n",
              "      <th>2</th>\n",
              "      <td>학교</td>\n",
              "      <td>서울특별시 용산구 청파로47길 100</td>\n",
              "      <td>숙명여자대학교 제1캠퍼스</td>\n",
              "      <td>126.964630</td>\n",
              "      <td>37.546650</td>\n",
              "    </tr>\n",
              "    <tr>\n",
              "      <th>3</th>\n",
              "      <td>편의점</td>\n",
              "      <td>서울특별시 용산구 효창동 3-292</td>\n",
              "      <td>GS25 효창점</td>\n",
              "      <td>126.963237</td>\n",
              "      <td>37.546929</td>\n",
              "    </tr>\n",
              "    <tr>\n",
              "      <th>4</th>\n",
              "      <td>병원</td>\n",
              "      <td>서울특별시 용산구 갈월동 69-3</td>\n",
              "      <td>하나이비인후과</td>\n",
              "      <td>126.971945</td>\n",
              "      <td>37.545230</td>\n",
              "    </tr>\n",
              "    <tr>\n",
              "      <th>5</th>\n",
              "      <td>카페</td>\n",
              "      <td>서울특별시 용산구 갈월동 69-3</td>\n",
              "      <td>스타벅스</td>\n",
              "      <td>126.992637</td>\n",
              "      <td>37.539639</td>\n",
              "    </tr>\n",
              "    <tr>\n",
              "      <th>6</th>\n",
              "      <td>카페</td>\n",
              "      <td>서울특별시 용산구 갈월동 69-3</td>\n",
              "      <td>엔젤리너스</td>\n",
              "      <td>126.997302</td>\n",
              "      <td>37.538063</td>\n",
              "    </tr>\n",
              "    <tr>\n",
              "      <th>7</th>\n",
              "      <td>카페</td>\n",
              "      <td>서울특별시 용산구 갈월동 69-3</td>\n",
              "      <td>투썸플레이스</td>\n",
              "      <td>126.995068</td>\n",
              "      <td>37.534246</td>\n",
              "    </tr>\n",
              "    <tr>\n",
              "      <th>8</th>\n",
              "      <td>문화센터</td>\n",
              "      <td>서울특별시 용산구 갈월동 69-3</td>\n",
              "      <td>용산구문화센터</td>\n",
              "      <td>127.003002</td>\n",
              "      <td>37.532266</td>\n",
              "    </tr>\n",
              "  </tbody>\n",
              "</table>\n",
              "</div>\n",
              "      <button class=\"colab-df-convert\" onclick=\"convertToInteractive('df-30a7a0e3-f679-4439-91d9-b5fcc5b45c17')\"\n",
              "              title=\"Convert this dataframe to an interactive table.\"\n",
              "              style=\"display:none;\">\n",
              "        \n",
              "  <svg xmlns=\"http://www.w3.org/2000/svg\" height=\"24px\"viewBox=\"0 0 24 24\"\n",
              "       width=\"24px\">\n",
              "    <path d=\"M0 0h24v24H0V0z\" fill=\"none\"/>\n",
              "    <path d=\"M18.56 5.44l.94 2.06.94-2.06 2.06-.94-2.06-.94-.94-2.06-.94 2.06-2.06.94zm-11 1L8.5 8.5l.94-2.06 2.06-.94-2.06-.94L8.5 2.5l-.94 2.06-2.06.94zm10 10l.94 2.06.94-2.06 2.06-.94-2.06-.94-.94-2.06-.94 2.06-2.06.94z\"/><path d=\"M17.41 7.96l-1.37-1.37c-.4-.4-.92-.59-1.43-.59-.52 0-1.04.2-1.43.59L10.3 9.45l-7.72 7.72c-.78.78-.78 2.05 0 2.83L4 21.41c.39.39.9.59 1.41.59.51 0 1.02-.2 1.41-.59l7.78-7.78 2.81-2.81c.8-.78.8-2.07 0-2.86zM5.41 20L4 18.59l7.72-7.72 1.47 1.35L5.41 20z\"/>\n",
              "  </svg>\n",
              "      </button>\n",
              "      \n",
              "  <style>\n",
              "    .colab-df-container {\n",
              "      display:flex;\n",
              "      flex-wrap:wrap;\n",
              "      gap: 12px;\n",
              "    }\n",
              "\n",
              "    .colab-df-convert {\n",
              "      background-color: #E8F0FE;\n",
              "      border: none;\n",
              "      border-radius: 50%;\n",
              "      cursor: pointer;\n",
              "      display: none;\n",
              "      fill: #1967D2;\n",
              "      height: 32px;\n",
              "      padding: 0 0 0 0;\n",
              "      width: 32px;\n",
              "    }\n",
              "\n",
              "    .colab-df-convert:hover {\n",
              "      background-color: #E2EBFA;\n",
              "      box-shadow: 0px 1px 2px rgba(60, 64, 67, 0.3), 0px 1px 3px 1px rgba(60, 64, 67, 0.15);\n",
              "      fill: #174EA6;\n",
              "    }\n",
              "\n",
              "    [theme=dark] .colab-df-convert {\n",
              "      background-color: #3B4455;\n",
              "      fill: #D2E3FC;\n",
              "    }\n",
              "\n",
              "    [theme=dark] .colab-df-convert:hover {\n",
              "      background-color: #434B5C;\n",
              "      box-shadow: 0px 1px 3px 1px rgba(0, 0, 0, 0.15);\n",
              "      filter: drop-shadow(0px 1px 2px rgba(0, 0, 0, 0.3));\n",
              "      fill: #FFFFFF;\n",
              "    }\n",
              "  </style>\n",
              "\n",
              "      <script>\n",
              "        const buttonEl =\n",
              "          document.querySelector('#df-30a7a0e3-f679-4439-91d9-b5fcc5b45c17 button.colab-df-convert');\n",
              "        buttonEl.style.display =\n",
              "          google.colab.kernel.accessAllowed ? 'block' : 'none';\n",
              "\n",
              "        async function convertToInteractive(key) {\n",
              "          const element = document.querySelector('#df-30a7a0e3-f679-4439-91d9-b5fcc5b45c17');\n",
              "          const dataTable =\n",
              "            await google.colab.kernel.invokeFunction('convertToInteractive',\n",
              "                                                     [key], {});\n",
              "          if (!dataTable) return;\n",
              "\n",
              "          const docLinkHtml = 'Like what you see? Visit the ' +\n",
              "            '<a target=\"_blank\" href=https://colab.research.google.com/notebooks/data_table.ipynb>data table notebook</a>'\n",
              "            + ' to learn more about interactive tables.';\n",
              "          element.innerHTML = '';\n",
              "          dataTable['output_type'] = 'display_data';\n",
              "          await google.colab.output.renderOutput(dataTable, element);\n",
              "          const docLink = document.createElement('div');\n",
              "          docLink.innerHTML = docLinkHtml;\n",
              "          element.appendChild(docLink);\n",
              "        }\n",
              "      </script>\n",
              "    </div>\n",
              "  </div>\n",
              "  "
            ],
            "text/plain": [
              "     분류                 도로명주소           상세주소          경도         위도\n",
              "0    병원    서울특별시 용산구 효창동 5-99         연세세림내과  126.962077  37.540457\n",
              "1   편의점      서울특별시 용산구 갈월동 16       CU숙대입구역점  126.972167  37.545525\n",
              "2    학교  서울특별시 용산구 청파로47길 100  숙명여자대학교 제1캠퍼스  126.964630  37.546650\n",
              "3   편의점   서울특별시 용산구 효창동 3-292       GS25 효창점  126.963237  37.546929\n",
              "4    병원    서울특별시 용산구 갈월동 69-3        하나이비인후과  126.971945  37.545230\n",
              "5    카페    서울특별시 용산구 갈월동 69-3           스타벅스  126.992637  37.539639\n",
              "6    카페    서울특별시 용산구 갈월동 69-3          엔젤리너스  126.997302  37.538063\n",
              "7    카페    서울특별시 용산구 갈월동 69-3         투썸플레이스  126.995068  37.534246\n",
              "8  문화센터    서울특별시 용산구 갈월동 69-3        용산구문화센터  127.003002  37.532266"
            ]
          },
          "execution_count": 439,
          "metadata": {},
          "output_type": "execute_result"
        }
      ],
      "source": [
        "address = pd.DataFrame({'분류':['병원', '편의점', '학교', '편의점', '병원', '카페', '카페', '카페', '문화센터'], \n",
        "                        '도로명주소':['서울특별시 용산구 효창동 5-99', '서울특별시 용산구 갈월동 16', '서울특별시 용산구 청파로47길 100', '서울특별시 용산구 효창동 3-292', '서울특별시 용산구 갈월동 69-3','서울특별시 용산구 갈월동 69-3','서울특별시 용산구 갈월동 69-3','서울특별시 용산구 갈월동 69-3','서울특별시 용산구 갈월동 69-3'],\n",
        "                        '상세주소':['연세세림내과', 'CU숙대입구역점', '숙명여자대학교 제1캠퍼스', 'GS25 효창점', '하나이비인후과', '스타벅스', '엔젤리너스', '투썸플레이스', '용산구문화센터'],\n",
        "                        '경도':[126.96207723819813, 126.97216672677722, 126.96463,126.96323671546, 126.97194477926477, 126.9926368740932, 126.99730216821392,126.99506808374375, 127.0030023688794], \n",
        "                        '위도':[37.54045738249753,37.5455250030874,37.54665, 37.54692932830024, 37.54522978032181, 37.539638863594405,37.538062753471344, 37.53424608426737, 37.53226602876014]})\n",
        "address"
      ]
    },
    {
      "cell_type": "code",
      "execution_count": 440,
      "metadata": {
        "colab": {
          "base_uri": "https://localhost:8080/",
          "height": 529
        },
        "id": "vQovgNWst7aZ",
        "outputId": "ecf03e5f-a3cc-497f-fc9a-30f5ff590606"
      },
      "outputs": [
        {
          "name": "stdout",
          "output_type": "stream",
          "text": [
            "입력할 시설의 개수를 쓰시오: 5\n",
            "시설을 입력해주세요: 편의점\n",
            "희망 소요시간(분단위)을 입력해주세요: 1\n",
            "시설을 입력해주세요: 카페\n",
            "희망 소요시간(분단위)을 입력해주세요: 5\n",
            "시설을 입력해주세요: 병원\n",
            "희망 소요시간(분단위)을 입력해주세요: 1\n",
            "시설을 입력해주세요: 학교\n",
            "희망 소요시간(분단위)을 입력해주세요: 15\n",
            "시설을 입력해주세요: 문화센터\n",
            "희망 소요시간(분단위)을 입력해주세요: 20\n"
          ]
        },
        {
          "data": {
            "text/html": [
              "\n",
              "  <div id=\"df-8125d9a9-f290-4341-8afa-0a6fe18941ff\">\n",
              "    <div class=\"colab-df-container\">\n",
              "      <div>\n",
              "<style scoped>\n",
              "    .dataframe tbody tr th:only-of-type {\n",
              "        vertical-align: middle;\n",
              "    }\n",
              "\n",
              "    .dataframe tbody tr th {\n",
              "        vertical-align: top;\n",
              "    }\n",
              "\n",
              "    .dataframe thead th {\n",
              "        text-align: right;\n",
              "    }\n",
              "</style>\n",
              "<table border=\"1\" class=\"dataframe\">\n",
              "  <thead>\n",
              "    <tr style=\"text-align: right;\">\n",
              "      <th></th>\n",
              "      <th>분류</th>\n",
              "      <th>도로명주소</th>\n",
              "      <th>상세주소</th>\n",
              "      <th>경도</th>\n",
              "      <th>위도</th>\n",
              "      <th>희망시간</th>\n",
              "    </tr>\n",
              "  </thead>\n",
              "  <tbody>\n",
              "    <tr>\n",
              "      <th>0</th>\n",
              "      <td>편의점</td>\n",
              "      <td>서울특별시 용산구 갈월동 16</td>\n",
              "      <td>CU숙대입구역점</td>\n",
              "      <td>126.972167</td>\n",
              "      <td>37.545525</td>\n",
              "      <td>1.0</td>\n",
              "    </tr>\n",
              "    <tr>\n",
              "      <th>1</th>\n",
              "      <td>편의점</td>\n",
              "      <td>서울특별시 용산구 효창동 3-292</td>\n",
              "      <td>GS25 효창점</td>\n",
              "      <td>126.963237</td>\n",
              "      <td>37.546929</td>\n",
              "      <td>1.0</td>\n",
              "    </tr>\n",
              "    <tr>\n",
              "      <th>2</th>\n",
              "      <td>카페</td>\n",
              "      <td>서울특별시 용산구 갈월동 69-3</td>\n",
              "      <td>스타벅스</td>\n",
              "      <td>126.992637</td>\n",
              "      <td>37.539639</td>\n",
              "      <td>5.0</td>\n",
              "    </tr>\n",
              "    <tr>\n",
              "      <th>3</th>\n",
              "      <td>카페</td>\n",
              "      <td>서울특별시 용산구 갈월동 69-3</td>\n",
              "      <td>엔젤리너스</td>\n",
              "      <td>126.997302</td>\n",
              "      <td>37.538063</td>\n",
              "      <td>5.0</td>\n",
              "    </tr>\n",
              "    <tr>\n",
              "      <th>4</th>\n",
              "      <td>카페</td>\n",
              "      <td>서울특별시 용산구 갈월동 69-3</td>\n",
              "      <td>투썸플레이스</td>\n",
              "      <td>126.995068</td>\n",
              "      <td>37.534246</td>\n",
              "      <td>5.0</td>\n",
              "    </tr>\n",
              "    <tr>\n",
              "      <th>5</th>\n",
              "      <td>병원</td>\n",
              "      <td>서울특별시 용산구 효창동 5-99</td>\n",
              "      <td>연세세림내과</td>\n",
              "      <td>126.962077</td>\n",
              "      <td>37.540457</td>\n",
              "      <td>1.0</td>\n",
              "    </tr>\n",
              "    <tr>\n",
              "      <th>6</th>\n",
              "      <td>병원</td>\n",
              "      <td>서울특별시 용산구 갈월동 69-3</td>\n",
              "      <td>하나이비인후과</td>\n",
              "      <td>126.971945</td>\n",
              "      <td>37.545230</td>\n",
              "      <td>1.0</td>\n",
              "    </tr>\n",
              "    <tr>\n",
              "      <th>7</th>\n",
              "      <td>학교</td>\n",
              "      <td>서울특별시 용산구 청파로47길 100</td>\n",
              "      <td>숙명여자대학교 제1캠퍼스</td>\n",
              "      <td>126.964630</td>\n",
              "      <td>37.546650</td>\n",
              "      <td>15.0</td>\n",
              "    </tr>\n",
              "    <tr>\n",
              "      <th>8</th>\n",
              "      <td>문화센터</td>\n",
              "      <td>서울특별시 용산구 갈월동 69-3</td>\n",
              "      <td>용산구문화센터</td>\n",
              "      <td>127.003002</td>\n",
              "      <td>37.532266</td>\n",
              "      <td>20.0</td>\n",
              "    </tr>\n",
              "  </tbody>\n",
              "</table>\n",
              "</div>\n",
              "      <button class=\"colab-df-convert\" onclick=\"convertToInteractive('df-8125d9a9-f290-4341-8afa-0a6fe18941ff')\"\n",
              "              title=\"Convert this dataframe to an interactive table.\"\n",
              "              style=\"display:none;\">\n",
              "        \n",
              "  <svg xmlns=\"http://www.w3.org/2000/svg\" height=\"24px\"viewBox=\"0 0 24 24\"\n",
              "       width=\"24px\">\n",
              "    <path d=\"M0 0h24v24H0V0z\" fill=\"none\"/>\n",
              "    <path d=\"M18.56 5.44l.94 2.06.94-2.06 2.06-.94-2.06-.94-.94-2.06-.94 2.06-2.06.94zm-11 1L8.5 8.5l.94-2.06 2.06-.94-2.06-.94L8.5 2.5l-.94 2.06-2.06.94zm10 10l.94 2.06.94-2.06 2.06-.94-2.06-.94-.94-2.06-.94 2.06-2.06.94z\"/><path d=\"M17.41 7.96l-1.37-1.37c-.4-.4-.92-.59-1.43-.59-.52 0-1.04.2-1.43.59L10.3 9.45l-7.72 7.72c-.78.78-.78 2.05 0 2.83L4 21.41c.39.39.9.59 1.41.59.51 0 1.02-.2 1.41-.59l7.78-7.78 2.81-2.81c.8-.78.8-2.07 0-2.86zM5.41 20L4 18.59l7.72-7.72 1.47 1.35L5.41 20z\"/>\n",
              "  </svg>\n",
              "      </button>\n",
              "      \n",
              "  <style>\n",
              "    .colab-df-container {\n",
              "      display:flex;\n",
              "      flex-wrap:wrap;\n",
              "      gap: 12px;\n",
              "    }\n",
              "\n",
              "    .colab-df-convert {\n",
              "      background-color: #E8F0FE;\n",
              "      border: none;\n",
              "      border-radius: 50%;\n",
              "      cursor: pointer;\n",
              "      display: none;\n",
              "      fill: #1967D2;\n",
              "      height: 32px;\n",
              "      padding: 0 0 0 0;\n",
              "      width: 32px;\n",
              "    }\n",
              "\n",
              "    .colab-df-convert:hover {\n",
              "      background-color: #E2EBFA;\n",
              "      box-shadow: 0px 1px 2px rgba(60, 64, 67, 0.3), 0px 1px 3px 1px rgba(60, 64, 67, 0.15);\n",
              "      fill: #174EA6;\n",
              "    }\n",
              "\n",
              "    [theme=dark] .colab-df-convert {\n",
              "      background-color: #3B4455;\n",
              "      fill: #D2E3FC;\n",
              "    }\n",
              "\n",
              "    [theme=dark] .colab-df-convert:hover {\n",
              "      background-color: #434B5C;\n",
              "      box-shadow: 0px 1px 3px 1px rgba(0, 0, 0, 0.15);\n",
              "      filter: drop-shadow(0px 1px 2px rgba(0, 0, 0, 0.3));\n",
              "      fill: #FFFFFF;\n",
              "    }\n",
              "  </style>\n",
              "\n",
              "      <script>\n",
              "        const buttonEl =\n",
              "          document.querySelector('#df-8125d9a9-f290-4341-8afa-0a6fe18941ff button.colab-df-convert');\n",
              "        buttonEl.style.display =\n",
              "          google.colab.kernel.accessAllowed ? 'block' : 'none';\n",
              "\n",
              "        async function convertToInteractive(key) {\n",
              "          const element = document.querySelector('#df-8125d9a9-f290-4341-8afa-0a6fe18941ff');\n",
              "          const dataTable =\n",
              "            await google.colab.kernel.invokeFunction('convertToInteractive',\n",
              "                                                     [key], {});\n",
              "          if (!dataTable) return;\n",
              "\n",
              "          const docLinkHtml = 'Like what you see? Visit the ' +\n",
              "            '<a target=\"_blank\" href=https://colab.research.google.com/notebooks/data_table.ipynb>data table notebook</a>'\n",
              "            + ' to learn more about interactive tables.';\n",
              "          element.innerHTML = '';\n",
              "          dataTable['output_type'] = 'display_data';\n",
              "          await google.colab.output.renderOutput(dataTable, element);\n",
              "          const docLink = document.createElement('div');\n",
              "          docLink.innerHTML = docLinkHtml;\n",
              "          element.appendChild(docLink);\n",
              "        }\n",
              "      </script>\n",
              "    </div>\n",
              "  </div>\n",
              "  "
            ],
            "text/plain": [
              "     분류                 도로명주소           상세주소          경도         위도  희망시간\n",
              "0   편의점      서울특별시 용산구 갈월동 16       CU숙대입구역점  126.972167  37.545525   1.0\n",
              "1   편의점   서울특별시 용산구 효창동 3-292       GS25 효창점  126.963237  37.546929   1.0\n",
              "2    카페    서울특별시 용산구 갈월동 69-3           스타벅스  126.992637  37.539639   5.0\n",
              "3    카페    서울특별시 용산구 갈월동 69-3          엔젤리너스  126.997302  37.538063   5.0\n",
              "4    카페    서울특별시 용산구 갈월동 69-3         투썸플레이스  126.995068  37.534246   5.0\n",
              "5    병원    서울특별시 용산구 효창동 5-99         연세세림내과  126.962077  37.540457   1.0\n",
              "6    병원    서울특별시 용산구 갈월동 69-3        하나이비인후과  126.971945  37.545230   1.0\n",
              "7    학교  서울특별시 용산구 청파로47길 100  숙명여자대학교 제1캠퍼스  126.964630  37.546650  15.0\n",
              "8  문화센터    서울특별시 용산구 갈월동 69-3        용산구문화센터  127.003002  37.532266  20.0"
            ]
          },
          "execution_count": 440,
          "metadata": {},
          "output_type": "execute_result"
        }
      ],
      "source": [
        "add_df = pd.DataFrame({'분류':[], \n",
        "                        '도로명주소':[],\n",
        "                        '상세주소':[],\n",
        "                        '경도':[], \n",
        "                        '위도':[],\n",
        "                        '희망시간':[]})\n",
        "data_num = int(input(\"입력할 시설의 개수를 쓰시오: \"))\n",
        "data_input =[]\n",
        "data_time = []\n",
        "for i in range(data_num):\n",
        "  data_input.append(input(\"시설을 입력해주세요: \"))\n",
        "  data_time.append(input(\"희망 소요시간(분단위)을 입력해주세요: \"))\n",
        "data_time = list(map(int, data_time))\n",
        "for j, i in zip(data_input, data_time):\n",
        "  address_ab = address.loc[address['분류'] == j]\n",
        "  add_df = add_df.append(address_ab, ignore_index=True)\n",
        "  add_df.loc[add_df[\"분류\"] == j, \"희망시간\"] = int(i)\n",
        "\n",
        "add_df"
      ]
    },
    {
      "cell_type": "code",
      "execution_count": 441,
      "metadata": {
        "colab": {
          "base_uri": "https://localhost:8080/",
          "height": 35
        },
        "id": "bkkKOQwjv4x7",
        "outputId": "dc71507a-7604-4497-89e2-abc0f9834ca0"
      },
      "outputs": [
        {
          "data": {
            "application/vnd.google.colaboratory.intrinsic+json": {
              "type": "string"
            },
            "text/plain": [
              "'문화센터'"
            ]
          },
          "execution_count": 441,
          "metadata": {},
          "output_type": "execute_result"
        }
      ],
      "source": [
        "add_count = add_df['분류'].value_counts()\n",
        "min_count = add_count.axes[0][0]\n",
        "count = add_count[0]\n",
        "for i in range(len(add_count)):\n",
        "  if add_count[i]<count:\n",
        "    min_count = add_count.axes[0][i]\n",
        "\n",
        "min_count"
      ]
    },
    {
      "cell_type": "code",
      "execution_count": 442,
      "metadata": {
        "colab": {
          "base_uri": "https://localhost:8080/",
          "height": 331
        },
        "id": "EnoJ-FFV03FQ",
        "outputId": "ac80ce9e-6993-418c-f3b7-c5c5cfa67c47"
      },
      "outputs": [
        {
          "data": {
            "text/html": [
              "\n",
              "  <div id=\"df-2719201b-1324-4b14-abce-d32684717f58\">\n",
              "    <div class=\"colab-df-container\">\n",
              "      <div>\n",
              "<style scoped>\n",
              "    .dataframe tbody tr th:only-of-type {\n",
              "        vertical-align: middle;\n",
              "    }\n",
              "\n",
              "    .dataframe tbody tr th {\n",
              "        vertical-align: top;\n",
              "    }\n",
              "\n",
              "    .dataframe thead th {\n",
              "        text-align: right;\n",
              "    }\n",
              "</style>\n",
              "<table border=\"1\" class=\"dataframe\">\n",
              "  <thead>\n",
              "    <tr style=\"text-align: right;\">\n",
              "      <th></th>\n",
              "      <th>분류</th>\n",
              "      <th>도로명주소</th>\n",
              "      <th>상세주소</th>\n",
              "      <th>경도</th>\n",
              "      <th>위도</th>\n",
              "      <th>희망시간</th>\n",
              "      <th>거리</th>\n",
              "    </tr>\n",
              "  </thead>\n",
              "  <tbody>\n",
              "    <tr>\n",
              "      <th>0</th>\n",
              "      <td>편의점</td>\n",
              "      <td>서울특별시 용산구 갈월동 16</td>\n",
              "      <td>CU숙대입구역점</td>\n",
              "      <td>126.972167</td>\n",
              "      <td>37.545525</td>\n",
              "      <td>1.0</td>\n",
              "      <td>0.033565</td>\n",
              "    </tr>\n",
              "    <tr>\n",
              "      <th>1</th>\n",
              "      <td>편의점</td>\n",
              "      <td>서울특별시 용산구 효창동 3-292</td>\n",
              "      <td>GS25 효창점</td>\n",
              "      <td>126.963237</td>\n",
              "      <td>37.546929</td>\n",
              "      <td>1.0</td>\n",
              "      <td>0.042383</td>\n",
              "    </tr>\n",
              "    <tr>\n",
              "      <th>2</th>\n",
              "      <td>카페</td>\n",
              "      <td>서울특별시 용산구 갈월동 69-3</td>\n",
              "      <td>스타벅스</td>\n",
              "      <td>126.992637</td>\n",
              "      <td>37.539639</td>\n",
              "      <td>5.0</td>\n",
              "      <td>0.012720</td>\n",
              "    </tr>\n",
              "    <tr>\n",
              "      <th>3</th>\n",
              "      <td>카페</td>\n",
              "      <td>서울특별시 용산구 갈월동 69-3</td>\n",
              "      <td>엔젤리너스</td>\n",
              "      <td>126.997302</td>\n",
              "      <td>37.538063</td>\n",
              "      <td>5.0</td>\n",
              "      <td>0.008130</td>\n",
              "    </tr>\n",
              "    <tr>\n",
              "      <th>4</th>\n",
              "      <td>카페</td>\n",
              "      <td>서울특별시 용산구 갈월동 69-3</td>\n",
              "      <td>투썸플레이스</td>\n",
              "      <td>126.995068</td>\n",
              "      <td>37.534246</td>\n",
              "      <td>5.0</td>\n",
              "      <td>0.008178</td>\n",
              "    </tr>\n",
              "    <tr>\n",
              "      <th>5</th>\n",
              "      <td>병원</td>\n",
              "      <td>서울특별시 용산구 효창동 5-99</td>\n",
              "      <td>연세세림내과</td>\n",
              "      <td>126.962077</td>\n",
              "      <td>37.540457</td>\n",
              "      <td>1.0</td>\n",
              "      <td>0.041737</td>\n",
              "    </tr>\n",
              "    <tr>\n",
              "      <th>6</th>\n",
              "      <td>병원</td>\n",
              "      <td>서울특별시 용산구 갈월동 69-3</td>\n",
              "      <td>하나이비인후과</td>\n",
              "      <td>126.971945</td>\n",
              "      <td>37.545230</td>\n",
              "      <td>1.0</td>\n",
              "      <td>0.033655</td>\n",
              "    </tr>\n",
              "    <tr>\n",
              "      <th>7</th>\n",
              "      <td>학교</td>\n",
              "      <td>서울특별시 용산구 청파로47길 100</td>\n",
              "      <td>숙명여자대학교 제1캠퍼스</td>\n",
              "      <td>126.964630</td>\n",
              "      <td>37.546650</td>\n",
              "      <td>15.0</td>\n",
              "      <td>0.040980</td>\n",
              "    </tr>\n",
              "    <tr>\n",
              "      <th>8</th>\n",
              "      <td>문화센터</td>\n",
              "      <td>서울특별시 용산구 갈월동 69-3</td>\n",
              "      <td>용산구문화센터</td>\n",
              "      <td>127.003002</td>\n",
              "      <td>37.532266</td>\n",
              "      <td>20.0</td>\n",
              "      <td>0.000000</td>\n",
              "    </tr>\n",
              "  </tbody>\n",
              "</table>\n",
              "</div>\n",
              "      <button class=\"colab-df-convert\" onclick=\"convertToInteractive('df-2719201b-1324-4b14-abce-d32684717f58')\"\n",
              "              title=\"Convert this dataframe to an interactive table.\"\n",
              "              style=\"display:none;\">\n",
              "        \n",
              "  <svg xmlns=\"http://www.w3.org/2000/svg\" height=\"24px\"viewBox=\"0 0 24 24\"\n",
              "       width=\"24px\">\n",
              "    <path d=\"M0 0h24v24H0V0z\" fill=\"none\"/>\n",
              "    <path d=\"M18.56 5.44l.94 2.06.94-2.06 2.06-.94-2.06-.94-.94-2.06-.94 2.06-2.06.94zm-11 1L8.5 8.5l.94-2.06 2.06-.94-2.06-.94L8.5 2.5l-.94 2.06-2.06.94zm10 10l.94 2.06.94-2.06 2.06-.94-2.06-.94-.94-2.06-.94 2.06-2.06.94z\"/><path d=\"M17.41 7.96l-1.37-1.37c-.4-.4-.92-.59-1.43-.59-.52 0-1.04.2-1.43.59L10.3 9.45l-7.72 7.72c-.78.78-.78 2.05 0 2.83L4 21.41c.39.39.9.59 1.41.59.51 0 1.02-.2 1.41-.59l7.78-7.78 2.81-2.81c.8-.78.8-2.07 0-2.86zM5.41 20L4 18.59l7.72-7.72 1.47 1.35L5.41 20z\"/>\n",
              "  </svg>\n",
              "      </button>\n",
              "      \n",
              "  <style>\n",
              "    .colab-df-container {\n",
              "      display:flex;\n",
              "      flex-wrap:wrap;\n",
              "      gap: 12px;\n",
              "    }\n",
              "\n",
              "    .colab-df-convert {\n",
              "      background-color: #E8F0FE;\n",
              "      border: none;\n",
              "      border-radius: 50%;\n",
              "      cursor: pointer;\n",
              "      display: none;\n",
              "      fill: #1967D2;\n",
              "      height: 32px;\n",
              "      padding: 0 0 0 0;\n",
              "      width: 32px;\n",
              "    }\n",
              "\n",
              "    .colab-df-convert:hover {\n",
              "      background-color: #E2EBFA;\n",
              "      box-shadow: 0px 1px 2px rgba(60, 64, 67, 0.3), 0px 1px 3px 1px rgba(60, 64, 67, 0.15);\n",
              "      fill: #174EA6;\n",
              "    }\n",
              "\n",
              "    [theme=dark] .colab-df-convert {\n",
              "      background-color: #3B4455;\n",
              "      fill: #D2E3FC;\n",
              "    }\n",
              "\n",
              "    [theme=dark] .colab-df-convert:hover {\n",
              "      background-color: #434B5C;\n",
              "      box-shadow: 0px 1px 3px 1px rgba(0, 0, 0, 0.15);\n",
              "      filter: drop-shadow(0px 1px 2px rgba(0, 0, 0, 0.3));\n",
              "      fill: #FFFFFF;\n",
              "    }\n",
              "  </style>\n",
              "\n",
              "      <script>\n",
              "        const buttonEl =\n",
              "          document.querySelector('#df-2719201b-1324-4b14-abce-d32684717f58 button.colab-df-convert');\n",
              "        buttonEl.style.display =\n",
              "          google.colab.kernel.accessAllowed ? 'block' : 'none';\n",
              "\n",
              "        async function convertToInteractive(key) {\n",
              "          const element = document.querySelector('#df-2719201b-1324-4b14-abce-d32684717f58');\n",
              "          const dataTable =\n",
              "            await google.colab.kernel.invokeFunction('convertToInteractive',\n",
              "                                                     [key], {});\n",
              "          if (!dataTable) return;\n",
              "\n",
              "          const docLinkHtml = 'Like what you see? Visit the ' +\n",
              "            '<a target=\"_blank\" href=https://colab.research.google.com/notebooks/data_table.ipynb>data table notebook</a>'\n",
              "            + ' to learn more about interactive tables.';\n",
              "          element.innerHTML = '';\n",
              "          dataTable['output_type'] = 'display_data';\n",
              "          await google.colab.output.renderOutput(dataTable, element);\n",
              "          const docLink = document.createElement('div');\n",
              "          docLink.innerHTML = docLinkHtml;\n",
              "          element.appendChild(docLink);\n",
              "        }\n",
              "      </script>\n",
              "    </div>\n",
              "  </div>\n",
              "  "
            ],
            "text/plain": [
              "     분류                 도로명주소           상세주소  ...         위도  희망시간        거리\n",
              "0   편의점      서울특별시 용산구 갈월동 16       CU숙대입구역점  ...  37.545525   1.0  0.033565\n",
              "1   편의점   서울특별시 용산구 효창동 3-292       GS25 효창점  ...  37.546929   1.0  0.042383\n",
              "2    카페    서울특별시 용산구 갈월동 69-3           스타벅스  ...  37.539639   5.0  0.012720\n",
              "3    카페    서울특별시 용산구 갈월동 69-3          엔젤리너스  ...  37.538063   5.0  0.008130\n",
              "4    카페    서울특별시 용산구 갈월동 69-3         투썸플레이스  ...  37.534246   5.0  0.008178\n",
              "5    병원    서울특별시 용산구 효창동 5-99         연세세림내과  ...  37.540457   1.0  0.041737\n",
              "6    병원    서울특별시 용산구 갈월동 69-3        하나이비인후과  ...  37.545230   1.0  0.033655\n",
              "7    학교  서울특별시 용산구 청파로47길 100  숙명여자대학교 제1캠퍼스  ...  37.546650  15.0  0.040980\n",
              "8  문화센터    서울특별시 용산구 갈월동 69-3        용산구문화센터  ...  37.532266  20.0  0.000000\n",
              "\n",
              "[9 rows x 7 columns]"
            ]
          },
          "execution_count": 442,
          "metadata": {},
          "output_type": "execute_result"
        }
      ],
      "source": [
        "a = address.loc[address['분류'] == min_count, [\"분류\",'위도', '경도']]\n",
        "a = (a['위도'].values[0], a['경도'].values[0])\n",
        "s = []\n",
        "for y, x in zip(add_df['위도'], add_df['경도']):\n",
        "  b = (y, x)\n",
        "  s.append(distance.euclidean(a, b))\n",
        "add_df['거리'] = s\n",
        "\n",
        "add_df"
      ]
    },
    {
      "cell_type": "code",
      "execution_count": 443,
      "metadata": {
        "id": "ie2krdW5-cBR"
      },
      "outputs": [],
      "source": [
        "address_final = add_df.loc[add_df.groupby(['분류'])['거리'].idxmin()]\n",
        "address_final = address_final.sort_values('거리')\n",
        "address_final = address_final.reset_index(drop = True)"
      ]
    },
    {
      "cell_type": "code",
      "execution_count": 444,
      "metadata": {
        "colab": {
          "base_uri": "https://localhost:8080/",
          "height": 206
        },
        "id": "55EswCLX6jor",
        "outputId": "a8260b3b-a64e-4418-d551-0053ffab9a7b"
      },
      "outputs": [
        {
          "data": {
            "text/html": [
              "\n",
              "  <div id=\"df-f05b558d-3422-4d83-b298-869c2571d85a\">\n",
              "    <div class=\"colab-df-container\">\n",
              "      <div>\n",
              "<style scoped>\n",
              "    .dataframe tbody tr th:only-of-type {\n",
              "        vertical-align: middle;\n",
              "    }\n",
              "\n",
              "    .dataframe tbody tr th {\n",
              "        vertical-align: top;\n",
              "    }\n",
              "\n",
              "    .dataframe thead th {\n",
              "        text-align: right;\n",
              "    }\n",
              "</style>\n",
              "<table border=\"1\" class=\"dataframe\">\n",
              "  <thead>\n",
              "    <tr style=\"text-align: right;\">\n",
              "      <th></th>\n",
              "      <th>분류</th>\n",
              "      <th>도로명주소</th>\n",
              "      <th>상세주소</th>\n",
              "      <th>경도</th>\n",
              "      <th>위도</th>\n",
              "      <th>희망시간</th>\n",
              "      <th>거리</th>\n",
              "    </tr>\n",
              "  </thead>\n",
              "  <tbody>\n",
              "    <tr>\n",
              "      <th>0</th>\n",
              "      <td>문화센터</td>\n",
              "      <td>서울특별시 용산구 갈월동 69-3</td>\n",
              "      <td>용산구문화센터</td>\n",
              "      <td>127.003002</td>\n",
              "      <td>37.532266</td>\n",
              "      <td>20.0</td>\n",
              "      <td>0.000000</td>\n",
              "    </tr>\n",
              "    <tr>\n",
              "      <th>1</th>\n",
              "      <td>카페</td>\n",
              "      <td>서울특별시 용산구 갈월동 69-3</td>\n",
              "      <td>엔젤리너스</td>\n",
              "      <td>126.997302</td>\n",
              "      <td>37.538063</td>\n",
              "      <td>5.0</td>\n",
              "      <td>0.008130</td>\n",
              "    </tr>\n",
              "    <tr>\n",
              "      <th>2</th>\n",
              "      <td>편의점</td>\n",
              "      <td>서울특별시 용산구 갈월동 16</td>\n",
              "      <td>CU숙대입구역점</td>\n",
              "      <td>126.972167</td>\n",
              "      <td>37.545525</td>\n",
              "      <td>1.0</td>\n",
              "      <td>0.033565</td>\n",
              "    </tr>\n",
              "    <tr>\n",
              "      <th>3</th>\n",
              "      <td>병원</td>\n",
              "      <td>서울특별시 용산구 갈월동 69-3</td>\n",
              "      <td>하나이비인후과</td>\n",
              "      <td>126.971945</td>\n",
              "      <td>37.545230</td>\n",
              "      <td>1.0</td>\n",
              "      <td>0.033655</td>\n",
              "    </tr>\n",
              "    <tr>\n",
              "      <th>4</th>\n",
              "      <td>학교</td>\n",
              "      <td>서울특별시 용산구 청파로47길 100</td>\n",
              "      <td>숙명여자대학교 제1캠퍼스</td>\n",
              "      <td>126.964630</td>\n",
              "      <td>37.546650</td>\n",
              "      <td>15.0</td>\n",
              "      <td>0.040980</td>\n",
              "    </tr>\n",
              "  </tbody>\n",
              "</table>\n",
              "</div>\n",
              "      <button class=\"colab-df-convert\" onclick=\"convertToInteractive('df-f05b558d-3422-4d83-b298-869c2571d85a')\"\n",
              "              title=\"Convert this dataframe to an interactive table.\"\n",
              "              style=\"display:none;\">\n",
              "        \n",
              "  <svg xmlns=\"http://www.w3.org/2000/svg\" height=\"24px\"viewBox=\"0 0 24 24\"\n",
              "       width=\"24px\">\n",
              "    <path d=\"M0 0h24v24H0V0z\" fill=\"none\"/>\n",
              "    <path d=\"M18.56 5.44l.94 2.06.94-2.06 2.06-.94-2.06-.94-.94-2.06-.94 2.06-2.06.94zm-11 1L8.5 8.5l.94-2.06 2.06-.94-2.06-.94L8.5 2.5l-.94 2.06-2.06.94zm10 10l.94 2.06.94-2.06 2.06-.94-2.06-.94-.94-2.06-.94 2.06-2.06.94z\"/><path d=\"M17.41 7.96l-1.37-1.37c-.4-.4-.92-.59-1.43-.59-.52 0-1.04.2-1.43.59L10.3 9.45l-7.72 7.72c-.78.78-.78 2.05 0 2.83L4 21.41c.39.39.9.59 1.41.59.51 0 1.02-.2 1.41-.59l7.78-7.78 2.81-2.81c.8-.78.8-2.07 0-2.86zM5.41 20L4 18.59l7.72-7.72 1.47 1.35L5.41 20z\"/>\n",
              "  </svg>\n",
              "      </button>\n",
              "      \n",
              "  <style>\n",
              "    .colab-df-container {\n",
              "      display:flex;\n",
              "      flex-wrap:wrap;\n",
              "      gap: 12px;\n",
              "    }\n",
              "\n",
              "    .colab-df-convert {\n",
              "      background-color: #E8F0FE;\n",
              "      border: none;\n",
              "      border-radius: 50%;\n",
              "      cursor: pointer;\n",
              "      display: none;\n",
              "      fill: #1967D2;\n",
              "      height: 32px;\n",
              "      padding: 0 0 0 0;\n",
              "      width: 32px;\n",
              "    }\n",
              "\n",
              "    .colab-df-convert:hover {\n",
              "      background-color: #E2EBFA;\n",
              "      box-shadow: 0px 1px 2px rgba(60, 64, 67, 0.3), 0px 1px 3px 1px rgba(60, 64, 67, 0.15);\n",
              "      fill: #174EA6;\n",
              "    }\n",
              "\n",
              "    [theme=dark] .colab-df-convert {\n",
              "      background-color: #3B4455;\n",
              "      fill: #D2E3FC;\n",
              "    }\n",
              "\n",
              "    [theme=dark] .colab-df-convert:hover {\n",
              "      background-color: #434B5C;\n",
              "      box-shadow: 0px 1px 3px 1px rgba(0, 0, 0, 0.15);\n",
              "      filter: drop-shadow(0px 1px 2px rgba(0, 0, 0, 0.3));\n",
              "      fill: #FFFFFF;\n",
              "    }\n",
              "  </style>\n",
              "\n",
              "      <script>\n",
              "        const buttonEl =\n",
              "          document.querySelector('#df-f05b558d-3422-4d83-b298-869c2571d85a button.colab-df-convert');\n",
              "        buttonEl.style.display =\n",
              "          google.colab.kernel.accessAllowed ? 'block' : 'none';\n",
              "\n",
              "        async function convertToInteractive(key) {\n",
              "          const element = document.querySelector('#df-f05b558d-3422-4d83-b298-869c2571d85a');\n",
              "          const dataTable =\n",
              "            await google.colab.kernel.invokeFunction('convertToInteractive',\n",
              "                                                     [key], {});\n",
              "          if (!dataTable) return;\n",
              "\n",
              "          const docLinkHtml = 'Like what you see? Visit the ' +\n",
              "            '<a target=\"_blank\" href=https://colab.research.google.com/notebooks/data_table.ipynb>data table notebook</a>'\n",
              "            + ' to learn more about interactive tables.';\n",
              "          element.innerHTML = '';\n",
              "          dataTable['output_type'] = 'display_data';\n",
              "          await google.colab.output.renderOutput(dataTable, element);\n",
              "          const docLink = document.createElement('div');\n",
              "          docLink.innerHTML = docLinkHtml;\n",
              "          element.appendChild(docLink);\n",
              "        }\n",
              "      </script>\n",
              "    </div>\n",
              "  </div>\n",
              "  "
            ],
            "text/plain": [
              "     분류                 도로명주소           상세주소  ...         위도  희망시간        거리\n",
              "0  문화센터    서울특별시 용산구 갈월동 69-3        용산구문화센터  ...  37.532266  20.0  0.000000\n",
              "1    카페    서울특별시 용산구 갈월동 69-3          엔젤리너스  ...  37.538063   5.0  0.008130\n",
              "2   편의점      서울특별시 용산구 갈월동 16       CU숙대입구역점  ...  37.545525   1.0  0.033565\n",
              "3    병원    서울특별시 용산구 갈월동 69-3        하나이비인후과  ...  37.545230   1.0  0.033655\n",
              "4    학교  서울특별시 용산구 청파로47길 100  숙명여자대학교 제1캠퍼스  ...  37.546650  15.0  0.040980\n",
              "\n",
              "[5 rows x 7 columns]"
            ]
          },
          "execution_count": 444,
          "metadata": {},
          "output_type": "execute_result"
        }
      ],
      "source": [
        "address_final"
      ]
    },
    {
      "cell_type": "code",
      "execution_count": 445,
      "metadata": {
        "id": "u2qZTWGpAS9-"
      },
      "outputs": [],
      "source": [
        "#희망시간 리스트로 변환하기\n",
        "data_time = address_final[\"희망시간\"].tolist()"
      ]
    },
    {
      "cell_type": "code",
      "execution_count": 459,
      "metadata": {
        "colab": {
          "base_uri": "https://localhost:8080/"
        },
        "id": "mVBwx1giB2Od",
        "outputId": "6898cefd-5d4e-4de8-fefe-752d10bc6fb9"
      },
      "outputs": [
        {
          "data": {
            "text/plain": [
              "[[127.0030023688794, 37.53226602876014],\n",
              " [126.99730216821392, 37.538062753471344],\n",
              " [126.97216672677722, 37.5455250030874],\n",
              " [126.97194477926477, 37.54522978032181],\n",
              " [126.96463, 37.54665]]"
            ]
          },
          "execution_count": 459,
          "metadata": {},
          "output_type": "execute_result"
        }
      ],
      "source": [
        "address_fx = address_final[\"경도\"].values.tolist()\n",
        "address_fy = address_final[\"위도\"].values.tolist()\n",
        "xy = []\n",
        "point = []\n",
        "\n",
        "for i in range(len(address_fx)):\n",
        "  xy.append(address_fx[i])\n",
        "  xy.append(address_fy[i])\n",
        "  point.append(xy)\n",
        "  xy = []\n",
        "e_point=point\n",
        "point\n"
      ]
    },
    {
      "cell_type": "code",
      "execution_count": 447,
      "metadata": {
        "id": "cr_FRFNEAEBc"
      },
      "outputs": [],
      "source": [
        "#최외각 노드(시설) 선정하기 \n",
        "def convex_hull_graham(points):\n",
        "    '''\n",
        "    Returns points on convex hull in CCW order according to Graham's scan algorithm. \n",
        "    By Tom Switzer <thomas.switzer@gmail.com>.\n",
        "    '''\n",
        "    TURN_LEFT, TURN_RIGHT, TURN_NONE = (1, -1, 0)\n",
        "\n",
        "    def cmp(a, b):\n",
        "        return (a > b) - (a < b)\n",
        "\n",
        "    def turn(p, q, r):\n",
        "        return cmp((q[0] - p[0])*(r[1] - p[1]) - (r[0] - p[0])*(q[1] - p[1]), 0)\n",
        "\n",
        "    def _keep_left(hull, r):\n",
        "        while len(hull) > 1 and turn(hull[-2], hull[-1], r) != TURN_LEFT:\n",
        "            hull.pop()\n",
        "        if not len(hull) or hull[-1] != r:\n",
        "            hull.append(r)\n",
        "        return hull\n",
        "\n",
        "    points = sorted(points)\n",
        "    l = reduce(_keep_left, points, [])\n",
        "    u = reduce(_keep_left, reversed(points), [])\n",
        "    return l.extend(u[i] for i in range(1, len(u) - 1)) or l"
      ]
    },
    {
      "cell_type": "code",
      "execution_count": 448,
      "metadata": {
        "colab": {
          "base_uri": "https://localhost:8080/"
        },
        "id": "Iuk0jCLBAwt0",
        "outputId": "8f5ed941-e565-404e-9d1c-9a0f725a56d9"
      },
      "outputs": [
        {
          "data": {
            "text/plain": [
              "[[126.96463, 37.54665],\n",
              " [127.0030023688794, 37.53226602876014],\n",
              " [126.99730216821392, 37.538062753471344],\n",
              " [126.97216672677722, 37.5455250030874]]"
            ]
          },
          "execution_count": 448,
          "metadata": {},
          "output_type": "execute_result"
        }
      ],
      "source": [
        "point = convex_hull_graham(point)\n",
        "point"
      ]
    },
    {
      "cell_type": "code",
      "execution_count": 449,
      "metadata": {
        "colab": {
          "base_uri": "https://localhost:8080/"
        },
        "id": "bZ3QCpXKDaBG",
        "outputId": "bf5e1ff3-5495-425e-e50c-0372073ddc81"
      },
      "outputs": [
        {
          "name": "stdout",
          "output_type": "stream",
          "text": [
            "[126.98427531596764, 37.54062594632972]\n"
          ]
        }
      ],
      "source": [
        "x = 0\n",
        "y = 0\n",
        "for i in point:\n",
        "  x+=i[0]\n",
        "  y+=i[1]\n",
        "x = float(x/len(point))\n",
        "y = float(y/len(point))\n",
        "early = [x, y]\n",
        "print(early)"
      ]
    },
    {
      "cell_type": "code",
      "execution_count": 450,
      "metadata": {
        "id": "QSXgbrLCP0Jb"
      },
      "outputs": [],
      "source": [
        "#소요시간 구하는 함수\n",
        "def distance_time(start, end):\n",
        "  logging.basicConfig(format='[%(levelname)s] %(asctime)s - %(message)s', level=logging.INFO, datefmt=\"%H:%M:%S\")\n",
        "\n",
        "  version = 1\n",
        "  callback = \"result\"\n",
        "  apiUrl = f\"https://apis.openapi.sk.com/tmap/routes?version={version}&callback={callback}\"\n",
        "\n",
        "  headers = {\n",
        "      \"appKey\": \"l7xx0b316dc5f608415b8107bb2aa9fc7dbd\",\n",
        "      \"Accept\": \"application/json\",\n",
        "      \"Content-Type\": \"application/json; charset=UTF-8\"\n",
        "  }\n",
        "\n",
        "  json = {\n",
        "      \"startX\" : str(start[0]),\n",
        "      \"startY\" : str(start[1]),\n",
        "\n",
        "      \"endX\" : str(end[0]),\n",
        "      \"endY\" : str(end[1]),\n",
        "      \"reqCoordType\" : \"WGS84GEO\",\n",
        "      \"resCoordType\" : \"EPSG3857\"\n",
        "      # \"searchOption\" : searchOption,\n",
        "      # \"trafficInfo\" : trafficInfochk\n",
        "  }\n",
        "\n",
        "  req = requests.post(apiUrl, headers= headers, json=json)\n",
        "  j = req.json()\n",
        "\n",
        "  #for feat in j[\"features\"]:\n",
        "      #logging.info(feat)\n",
        "\n",
        "  feat = j[\"features\"][0]\n",
        "  dist = feat[\"properties\"][\"totalDistance\"]\n",
        "  time = feat[\"properties\"][\"totalTime\"]\n",
        "  logging.info(f\"totalDistance = {dist}, totalTime = {time}\")\n",
        "  return(float(time/60))"
      ]
    },
    {
      "cell_type": "code",
      "execution_count": 451,
      "metadata": {
        "colab": {
          "base_uri": "https://localhost:8080/"
        },
        "id": "BSZqd_fliNT_",
        "outputId": "a502b74b-f032-4dc6-a6d3-de727f70bf5e"
      },
      "outputs": [
        {
          "name": "stderr",
          "output_type": "stream",
          "text": [
            "[INFO] 19:47:12 - totalDistance = 4274, totalTime = 678\n",
            "[INFO] 19:47:13 - totalDistance = 2828, totalTime = 565\n",
            "[INFO] 19:47:14 - totalDistance = 2454, totalTime = 508\n",
            "[INFO] 19:47:14 - totalDistance = 3140, totalTime = 516\n"
          ]
        },
        {
          "data": {
            "text/plain": [
              "[11.3, 9.416666666666666, 8.466666666666667, 8.6]"
            ]
          },
          "execution_count": 451,
          "metadata": {},
          "output_type": "execute_result"
        }
      ],
      "source": [
        "#소요시간 리스트 함수\n",
        "def time_point(point,early):\n",
        "  time_list = []\n",
        "  for i in point:\n",
        "    time_list.append(distance_time(early, i))\n",
        "  return time_list\n",
        "\n",
        "times = time_point(point, early)\n",
        "times"
      ]
    },
    {
      "cell_type": "code",
      "execution_count": 452,
      "metadata": {
        "id": "TNwSn1knmx-f"
      },
      "outputs": [],
      "source": [
        "def cal(times):\n",
        "  result = 0 \n",
        "  for val in times: \n",
        "    result += val\n",
        "  time_ave = float(result/len(times))\n",
        "  time_trans = []\n",
        "  for i in times:\n",
        "    time_trans.append(float(i/time_ave))\n",
        "  return time_trans"
      ]
    },
    {
      "cell_type": "code",
      "execution_count": 453,
      "metadata": {
        "colab": {
          "base_uri": "https://localhost:8080/"
        },
        "id": "EdDCUBhMqjZG",
        "outputId": "986bf291-8449-41ed-c881-8647240bc626"
      },
      "outputs": [
        {
          "data": {
            "text/plain": [
              "[1.196294662549625, 0.996912218791354, 0.8963387737097485, 0.910454344949272]"
            ]
          },
          "execution_count": 453,
          "metadata": {},
          "output_type": "execute_result"
        }
      ],
      "source": [
        "time_average = cal(times)\n",
        "time_average"
      ]
    },
    {
      "cell_type": "code",
      "execution_count": 454,
      "metadata": {
        "colab": {
          "base_uri": "https://localhost:8080/"
        },
        "id": "LNcg3xtUqi_s",
        "outputId": "09b66d4b-3578-4da7-f1dc-8b321f4c7de5"
      },
      "outputs": [
        {
          "name": "stdout",
          "output_type": "stream",
          "text": [
            "[[126.96463, 37.54665], [127.0030023688794, 37.53226602876014], [126.99730216821392, 37.538062753471344], [126.97216672677722, 37.5455250030874]]\n"
          ]
        }
      ],
      "source": [
        "print(point)"
      ]
    },
    {
      "cell_type": "code",
      "execution_count": 455,
      "metadata": {
        "id": "Lla0lF9SDnPm"
      },
      "outputs": [],
      "source": [
        "point_poly = Polygon(point)"
      ]
    },
    {
      "cell_type": "code",
      "execution_count": 456,
      "metadata": {
        "id": "zLKvCMZBpw5D"
      },
      "outputs": [],
      "source": [
        "def time_weight(point, mid_points):\n",
        "  new_point = []\n",
        "  mid_a_point = mid_points\n",
        "  #중간값과 기존 노드 사이의 소요시간 구하기\n",
        "  time_points = time_point(point, mid_points)\n",
        "  #시간 가중치 구하기\n",
        "  time_weights = cal(time_points)\n",
        "\n",
        "  #노드 수만큼 이동상수 리스트 만들기\n",
        "  point_time = [0 for _ in range(len(point))]\n",
        "\n",
        "  #이동상수 계산\n",
        "  for i,j in zip(point, time_weights):\n",
        "    new_point.append(i[0]*j)\n",
        "    new_point.append(i[1]*j)\n",
        "    point_time[point.index(i)] = new_point\n",
        "    new_point=[]\n",
        "  \n",
        "  #(이동상수*노드)/(노드개수) 계산\n",
        "  distance_x=0\n",
        "  distance_y=0\n",
        "  for i in point_time:\n",
        "    distance_x+=i[0]\n",
        "    distance_y+=i[1]\n",
        "  distance_x/=len(point)\n",
        "  distance_y/=len(point)\n",
        "\n",
        "\n",
        "  # 중간값 걩신\n",
        "  mid_points = [distance_x, distance_y]\n",
        "  print(\"갱신된 중간값: \", end=\"\")\n",
        "  print(mid_points)\n",
        "  test_code = Point(mid_points)\n",
        "\n",
        "  #소요시간과 희망시간 조건 맞는지 확인 + 이동거리가 100미터 이하인지 확인 + 결정한 다각형에 중간값이 들어가는지 확인\n",
        "  for x, y in zip(time_point(point, mid_points), data_time):\n",
        "    if x < y or haversine((distance_y,distance_x),(mid_a_point[1],mid_a_point[0]), unit='m')<=100 or (test_code.within(point_poly)):\n",
        "      result = False\n",
        "    else:\n",
        "      result = True\n",
        "  #만약 조건이 맞으면 stop\n",
        "  if result: \n",
        "    time_weight(point, mid_points)  \n",
        "  else:\n",
        "    return mid_points\n",
        "    "
      ]
    },
    {
      "cell_type": "code",
      "execution_count": 457,
      "metadata": {
        "colab": {
          "base_uri": "https://localhost:8080/"
        },
        "id": "_iLO6lQrracZ",
        "outputId": "b21b5e6e-6475-45a5-d186-39bc4df18f99"
      },
      "outputs": [
        {
          "name": "stdout",
          "output_type": "stream",
          "text": [
            "초기 중간값: [126.98427531596764, 37.54062594632972]\n"
          ]
        },
        {
          "name": "stderr",
          "output_type": "stream",
          "text": [
            "[INFO] 19:47:31 - totalDistance = 4274, totalTime = 680\n",
            "[INFO] 19:47:32 - totalDistance = 2828, totalTime = 565\n",
            "[INFO] 19:47:33 - totalDistance = 2454, totalTime = 508\n",
            "[INFO] 19:47:34 - totalDistance = 3140, totalTime = 516\n"
          ]
        },
        {
          "name": "stdout",
          "output_type": "stream",
          "text": [
            "갱신된 중간값: [126.98323026505801, 37.54088477574151]\n"
          ]
        },
        {
          "name": "stderr",
          "output_type": "stream",
          "text": [
            "[INFO] 19:47:35 - totalDistance = 4268, totalTime = 679\n",
            "[INFO] 19:47:35 - totalDistance = 2822, totalTime = 564\n",
            "[INFO] 19:47:36 - totalDistance = 2448, totalTime = 507\n",
            "[INFO] 19:47:37 - totalDistance = 3134, totalTime = 515\n"
          ]
        }
      ],
      "source": [
        "print(\"초기 중간값: \", end=\"\")\n",
        "print(early)\n",
        "mid=time_weight(point, early)\n"
      ]
    },
    {
      "cell_type": "code",
      "execution_count": 460,
      "metadata": {
        "colab": {
          "base_uri": "https://localhost:8080/",
          "height": 904
        },
        "id": "lM41tV2q2t_N",
        "outputId": "484ea646-34d1-456f-9aff-12e80e341d6d"
      },
      "outputs": [
        {
          "data": {
            "text/html": [
              "<div style=\"width:100%;\"><div style=\"position:relative;width:100%;height:0;padding-bottom:60%;\"><span style=\"color:#565656\">Make this Notebook Trusted to load map: File -> Trust Notebook</span><iframe src=\"about:blank\" style=\"position:absolute;width:100%;height:100%;left:0;top:0;border:none !important;\" data-html=%3C%21DOCTYPE%20html%3E%0A%3Chead%3E%20%20%20%20%0A%20%20%20%20%3Cmeta%20http-equiv%3D%22content-type%22%20content%3D%22text/html%3B%20charset%3DUTF-8%22%20/%3E%0A%20%20%20%20%3Cscript%3EL_PREFER_CANVAS%3Dfalse%3B%20L_NO_TOUCH%3Dfalse%3B%20L_DISABLE_3D%3Dfalse%3B%3C/script%3E%0A%20%20%20%20%3Cscript%20src%3D%22https%3A//cdn.jsdelivr.net/npm/leaflet%401.4.0/dist/leaflet.js%22%3E%3C/script%3E%0A%20%20%20%20%3Cscript%20src%3D%22https%3A//code.jquery.com/jquery-1.12.4.min.js%22%3E%3C/script%3E%0A%20%20%20%20%3Cscript%20src%3D%22https%3A//maxcdn.bootstrapcdn.com/bootstrap/3.2.0/js/bootstrap.min.js%22%3E%3C/script%3E%0A%20%20%20%20%3Cscript%20src%3D%22https%3A//cdnjs.cloudflare.com/ajax/libs/Leaflet.awesome-markers/2.0.2/leaflet.awesome-markers.js%22%3E%3C/script%3E%0A%20%20%20%20%3Clink%20rel%3D%22stylesheet%22%20href%3D%22https%3A//cdn.jsdelivr.net/npm/leaflet%401.4.0/dist/leaflet.css%22/%3E%0A%20%20%20%20%3Clink%20rel%3D%22stylesheet%22%20href%3D%22https%3A//maxcdn.bootstrapcdn.com/bootstrap/3.2.0/css/bootstrap.min.css%22/%3E%0A%20%20%20%20%3Clink%20rel%3D%22stylesheet%22%20href%3D%22https%3A//maxcdn.bootstrapcdn.com/bootstrap/3.2.0/css/bootstrap-theme.min.css%22/%3E%0A%20%20%20%20%3Clink%20rel%3D%22stylesheet%22%20href%3D%22https%3A//maxcdn.bootstrapcdn.com/font-awesome/4.6.3/css/font-awesome.min.css%22/%3E%0A%20%20%20%20%3Clink%20rel%3D%22stylesheet%22%20href%3D%22https%3A//cdnjs.cloudflare.com/ajax/libs/Leaflet.awesome-markers/2.0.2/leaflet.awesome-markers.css%22/%3E%0A%20%20%20%20%3Clink%20rel%3D%22stylesheet%22%20href%3D%22https%3A//rawcdn.githack.com/python-visualization/folium/master/folium/templates/leaflet.awesome.rotate.css%22/%3E%0A%20%20%20%20%3Cstyle%3Ehtml%2C%20body%20%7Bwidth%3A%20100%25%3Bheight%3A%20100%25%3Bmargin%3A%200%3Bpadding%3A%200%3B%7D%3C/style%3E%0A%20%20%20%20%3Cstyle%3E%23map%20%7Bposition%3Aabsolute%3Btop%3A0%3Bbottom%3A0%3Bright%3A0%3Bleft%3A0%3B%7D%3C/style%3E%0A%20%20%20%20%0A%20%20%20%20%3Cmeta%20name%3D%22viewport%22%20content%3D%22width%3Ddevice-width%2C%0A%20%20%20%20%20%20%20%20initial-scale%3D1.0%2C%20maximum-scale%3D1.0%2C%20user-scalable%3Dno%22%20/%3E%0A%20%20%20%20%3Cstyle%3E%23map_ee0e12e624284583b006b6e5234e554e%20%7B%0A%20%20%20%20%20%20%20%20position%3A%20relative%3B%0A%20%20%20%20%20%20%20%20width%3A%20100.0%25%3B%0A%20%20%20%20%20%20%20%20height%3A%20100.0%25%3B%0A%20%20%20%20%20%20%20%20left%3A%200.0%25%3B%0A%20%20%20%20%20%20%20%20top%3A%200.0%25%3B%0A%20%20%20%20%20%20%20%20%7D%0A%20%20%20%20%3C/style%3E%0A%3C/head%3E%0A%3Cbody%3E%20%20%20%20%0A%20%20%20%20%0A%20%20%20%20%3Cdiv%20class%3D%22folium-map%22%20id%3D%22map_ee0e12e624284583b006b6e5234e554e%22%20%3E%3C/div%3E%0A%3C/body%3E%0A%3Cscript%3E%20%20%20%20%0A%20%20%20%20%0A%20%20%20%20%0A%20%20%20%20%20%20%20%20var%20bounds%20%3D%20null%3B%0A%20%20%20%20%0A%0A%20%20%20%20var%20map_ee0e12e624284583b006b6e5234e554e%20%3D%20L.map%28%0A%20%20%20%20%20%20%20%20%27map_ee0e12e624284583b006b6e5234e554e%27%2C%20%7B%0A%20%20%20%20%20%20%20%20center%3A%20%5B37.547019088096604%2C%20126.96451990527733%5D%2C%0A%20%20%20%20%20%20%20%20zoom%3A%2015%2C%0A%20%20%20%20%20%20%20%20maxBounds%3A%20bounds%2C%0A%20%20%20%20%20%20%20%20layers%3A%20%5B%5D%2C%0A%20%20%20%20%20%20%20%20worldCopyJump%3A%20false%2C%0A%20%20%20%20%20%20%20%20crs%3A%20L.CRS.EPSG3857%2C%0A%20%20%20%20%20%20%20%20zoomControl%3A%20true%2C%0A%20%20%20%20%20%20%20%20%7D%29%3B%0A%0A%0A%20%20%20%20%0A%20%20%20%20var%20tile_layer_96dc1c28551f410dac56b0eac3d141f9%20%3D%20L.tileLayer%28%0A%20%20%20%20%20%20%20%20%27https%3A//%7Bs%7D.tile.openstreetmap.org/%7Bz%7D/%7Bx%7D/%7By%7D.png%27%2C%0A%20%20%20%20%20%20%20%20%7B%0A%20%20%20%20%20%20%20%20%22attribution%22%3A%20null%2C%0A%20%20%20%20%20%20%20%20%22detectRetina%22%3A%20false%2C%0A%20%20%20%20%20%20%20%20%22maxNativeZoom%22%3A%2018%2C%0A%20%20%20%20%20%20%20%20%22maxZoom%22%3A%2018%2C%0A%20%20%20%20%20%20%20%20%22minZoom%22%3A%200%2C%0A%20%20%20%20%20%20%20%20%22noWrap%22%3A%20false%2C%0A%20%20%20%20%20%20%20%20%22opacity%22%3A%201%2C%0A%20%20%20%20%20%20%20%20%22subdomains%22%3A%20%22abc%22%2C%0A%20%20%20%20%20%20%20%20%22tms%22%3A%20false%0A%7D%29.addTo%28map_ee0e12e624284583b006b6e5234e554e%29%3B%0A%20%20%20%20%0A%20%20%20%20%20%20%20%20var%20marker_f5e76357d4ce42e8aa2188df41a3d377%20%3D%20L.marker%28%0A%20%20%20%20%20%20%20%20%20%20%20%20%5B37.53226602876014%2C%20127.0030023688794%5D%2C%0A%20%20%20%20%20%20%20%20%20%20%20%20%7B%0A%20%20%20%20%20%20%20%20%20%20%20%20%20%20%20%20icon%3A%20new%20L.Icon.Default%28%29%2C%0A%20%20%20%20%20%20%20%20%20%20%20%20%20%20%20%20%7D%0A%20%20%20%20%20%20%20%20%20%20%20%20%29.addTo%28map_ee0e12e624284583b006b6e5234e554e%29%3B%0A%20%20%20%20%20%20%20%20%0A%20%20%20%20%0A%20%20%20%20%20%20%20%20%20%20%20%20var%20popup_59b500d6767a4e7aa2259b3131f4e2ec%20%3D%20L.popup%28%7BmaxWidth%3A%20%27100%25%27%0A%20%20%20%20%20%20%20%20%20%20%20%20%0A%20%20%20%20%20%20%20%20%20%20%20%20%7D%29%3B%0A%0A%20%20%20%20%20%20%20%20%20%20%20%20%0A%20%20%20%20%20%20%20%20%20%20%20%20%20%20%20%20var%20html_e315795f2b2f4f6281dbf31616e20ebb%20%3D%20%24%28%60%3Cdiv%20id%3D%22html_e315795f2b2f4f6281dbf31616e20ebb%22%20style%3D%22width%3A%20100.0%25%3B%20height%3A%20100.0%25%3B%22%3E%ED%9D%AC%EB%A7%9D%EC%8B%9C%EC%84%A4%3C/div%3E%60%29%5B0%5D%3B%0A%20%20%20%20%20%20%20%20%20%20%20%20%20%20%20%20popup_59b500d6767a4e7aa2259b3131f4e2ec.setContent%28html_e315795f2b2f4f6281dbf31616e20ebb%29%3B%0A%20%20%20%20%20%20%20%20%20%20%20%20%0A%0A%20%20%20%20%20%20%20%20%20%20%20%20marker_f5e76357d4ce42e8aa2188df41a3d377.bindPopup%28popup_59b500d6767a4e7aa2259b3131f4e2ec%29%0A%20%20%20%20%20%20%20%20%20%20%20%20%3B%0A%0A%20%20%20%20%20%20%20%20%20%20%20%20%0A%20%20%20%20%20%20%20%20%0A%20%20%20%20%0A%20%20%20%20%20%20%20%20var%20marker_d5a7f88d15ff41efaef96969e1274bfd%20%3D%20L.marker%28%0A%20%20%20%20%20%20%20%20%20%20%20%20%5B37.538062753471344%2C%20126.99730216821392%5D%2C%0A%20%20%20%20%20%20%20%20%20%20%20%20%7B%0A%20%20%20%20%20%20%20%20%20%20%20%20%20%20%20%20icon%3A%20new%20L.Icon.Default%28%29%2C%0A%20%20%20%20%20%20%20%20%20%20%20%20%20%20%20%20%7D%0A%20%20%20%20%20%20%20%20%20%20%20%20%29.addTo%28map_ee0e12e624284583b006b6e5234e554e%29%3B%0A%20%20%20%20%20%20%20%20%0A%20%20%20%20%0A%20%20%20%20%20%20%20%20%20%20%20%20var%20popup_4caa232d1c1144db82c7a2b0011dc84b%20%3D%20L.popup%28%7BmaxWidth%3A%20%27100%25%27%0A%20%20%20%20%20%20%20%20%20%20%20%20%0A%20%20%20%20%20%20%20%20%20%20%20%20%7D%29%3B%0A%0A%20%20%20%20%20%20%20%20%20%20%20%20%0A%20%20%20%20%20%20%20%20%20%20%20%20%20%20%20%20var%20html_3c0f7ed0a1d74a65b5a0cfd076d741ba%20%3D%20%24%28%60%3Cdiv%20id%3D%22html_3c0f7ed0a1d74a65b5a0cfd076d741ba%22%20style%3D%22width%3A%20100.0%25%3B%20height%3A%20100.0%25%3B%22%3E%ED%9D%AC%EB%A7%9D%EC%8B%9C%EC%84%A4%3C/div%3E%60%29%5B0%5D%3B%0A%20%20%20%20%20%20%20%20%20%20%20%20%20%20%20%20popup_4caa232d1c1144db82c7a2b0011dc84b.setContent%28html_3c0f7ed0a1d74a65b5a0cfd076d741ba%29%3B%0A%20%20%20%20%20%20%20%20%20%20%20%20%0A%0A%20%20%20%20%20%20%20%20%20%20%20%20marker_d5a7f88d15ff41efaef96969e1274bfd.bindPopup%28popup_4caa232d1c1144db82c7a2b0011dc84b%29%0A%20%20%20%20%20%20%20%20%20%20%20%20%3B%0A%0A%20%20%20%20%20%20%20%20%20%20%20%20%0A%20%20%20%20%20%20%20%20%0A%20%20%20%20%0A%20%20%20%20%20%20%20%20var%20marker_e1d2138b64cc421b88fa245d81a814d6%20%3D%20L.marker%28%0A%20%20%20%20%20%20%20%20%20%20%20%20%5B37.5455250030874%2C%20126.97216672677722%5D%2C%0A%20%20%20%20%20%20%20%20%20%20%20%20%7B%0A%20%20%20%20%20%20%20%20%20%20%20%20%20%20%20%20icon%3A%20new%20L.Icon.Default%28%29%2C%0A%20%20%20%20%20%20%20%20%20%20%20%20%20%20%20%20%7D%0A%20%20%20%20%20%20%20%20%20%20%20%20%29.addTo%28map_ee0e12e624284583b006b6e5234e554e%29%3B%0A%20%20%20%20%20%20%20%20%0A%20%20%20%20%0A%20%20%20%20%20%20%20%20%20%20%20%20var%20popup_39c64fa166b6449da9d6bfd3ffff40c9%20%3D%20L.popup%28%7BmaxWidth%3A%20%27100%25%27%0A%20%20%20%20%20%20%20%20%20%20%20%20%0A%20%20%20%20%20%20%20%20%20%20%20%20%7D%29%3B%0A%0A%20%20%20%20%20%20%20%20%20%20%20%20%0A%20%20%20%20%20%20%20%20%20%20%20%20%20%20%20%20var%20html_63586a51bac341bb8a11c6f15714dae2%20%3D%20%24%28%60%3Cdiv%20id%3D%22html_63586a51bac341bb8a11c6f15714dae2%22%20style%3D%22width%3A%20100.0%25%3B%20height%3A%20100.0%25%3B%22%3E%ED%9D%AC%EB%A7%9D%EC%8B%9C%EC%84%A4%3C/div%3E%60%29%5B0%5D%3B%0A%20%20%20%20%20%20%20%20%20%20%20%20%20%20%20%20popup_39c64fa166b6449da9d6bfd3ffff40c9.setContent%28html_63586a51bac341bb8a11c6f15714dae2%29%3B%0A%20%20%20%20%20%20%20%20%20%20%20%20%0A%0A%20%20%20%20%20%20%20%20%20%20%20%20marker_e1d2138b64cc421b88fa245d81a814d6.bindPopup%28popup_39c64fa166b6449da9d6bfd3ffff40c9%29%0A%20%20%20%20%20%20%20%20%20%20%20%20%3B%0A%0A%20%20%20%20%20%20%20%20%20%20%20%20%0A%20%20%20%20%20%20%20%20%0A%20%20%20%20%0A%20%20%20%20%20%20%20%20var%20marker_e26dccafbe334469857932f15b7b8a55%20%3D%20L.marker%28%0A%20%20%20%20%20%20%20%20%20%20%20%20%5B37.54522978032181%2C%20126.97194477926477%5D%2C%0A%20%20%20%20%20%20%20%20%20%20%20%20%7B%0A%20%20%20%20%20%20%20%20%20%20%20%20%20%20%20%20icon%3A%20new%20L.Icon.Default%28%29%2C%0A%20%20%20%20%20%20%20%20%20%20%20%20%20%20%20%20%7D%0A%20%20%20%20%20%20%20%20%20%20%20%20%29.addTo%28map_ee0e12e624284583b006b6e5234e554e%29%3B%0A%20%20%20%20%20%20%20%20%0A%20%20%20%20%0A%20%20%20%20%20%20%20%20%20%20%20%20var%20popup_72051efc9c9e403b9c1e44c6ca4eb0d9%20%3D%20L.popup%28%7BmaxWidth%3A%20%27100%25%27%0A%20%20%20%20%20%20%20%20%20%20%20%20%0A%20%20%20%20%20%20%20%20%20%20%20%20%7D%29%3B%0A%0A%20%20%20%20%20%20%20%20%20%20%20%20%0A%20%20%20%20%20%20%20%20%20%20%20%20%20%20%20%20var%20html_89fae7fac6804911956381173214b577%20%3D%20%24%28%60%3Cdiv%20id%3D%22html_89fae7fac6804911956381173214b577%22%20style%3D%22width%3A%20100.0%25%3B%20height%3A%20100.0%25%3B%22%3E%ED%9D%AC%EB%A7%9D%EC%8B%9C%EC%84%A4%3C/div%3E%60%29%5B0%5D%3B%0A%20%20%20%20%20%20%20%20%20%20%20%20%20%20%20%20popup_72051efc9c9e403b9c1e44c6ca4eb0d9.setContent%28html_89fae7fac6804911956381173214b577%29%3B%0A%20%20%20%20%20%20%20%20%20%20%20%20%0A%0A%20%20%20%20%20%20%20%20%20%20%20%20marker_e26dccafbe334469857932f15b7b8a55.bindPopup%28popup_72051efc9c9e403b9c1e44c6ca4eb0d9%29%0A%20%20%20%20%20%20%20%20%20%20%20%20%3B%0A%0A%20%20%20%20%20%20%20%20%20%20%20%20%0A%20%20%20%20%20%20%20%20%0A%20%20%20%20%0A%20%20%20%20%20%20%20%20var%20marker_93703109720a40c381db51bbcc5e3007%20%3D%20L.marker%28%0A%20%20%20%20%20%20%20%20%20%20%20%20%5B37.54665%2C%20126.96463%5D%2C%0A%20%20%20%20%20%20%20%20%20%20%20%20%7B%0A%20%20%20%20%20%20%20%20%20%20%20%20%20%20%20%20icon%3A%20new%20L.Icon.Default%28%29%2C%0A%20%20%20%20%20%20%20%20%20%20%20%20%20%20%20%20%7D%0A%20%20%20%20%20%20%20%20%20%20%20%20%29.addTo%28map_ee0e12e624284583b006b6e5234e554e%29%3B%0A%20%20%20%20%20%20%20%20%0A%20%20%20%20%0A%20%20%20%20%20%20%20%20%20%20%20%20var%20popup_756cc47298c94eb4a3ead67b40ba5b0e%20%3D%20L.popup%28%7BmaxWidth%3A%20%27100%25%27%0A%20%20%20%20%20%20%20%20%20%20%20%20%0A%20%20%20%20%20%20%20%20%20%20%20%20%7D%29%3B%0A%0A%20%20%20%20%20%20%20%20%20%20%20%20%0A%20%20%20%20%20%20%20%20%20%20%20%20%20%20%20%20var%20html_de8be8fcba17461da9fee6c84957522e%20%3D%20%24%28%60%3Cdiv%20id%3D%22html_de8be8fcba17461da9fee6c84957522e%22%20style%3D%22width%3A%20100.0%25%3B%20height%3A%20100.0%25%3B%22%3E%ED%9D%AC%EB%A7%9D%EC%8B%9C%EC%84%A4%3C/div%3E%60%29%5B0%5D%3B%0A%20%20%20%20%20%20%20%20%20%20%20%20%20%20%20%20popup_756cc47298c94eb4a3ead67b40ba5b0e.setContent%28html_de8be8fcba17461da9fee6c84957522e%29%3B%0A%20%20%20%20%20%20%20%20%20%20%20%20%0A%0A%20%20%20%20%20%20%20%20%20%20%20%20marker_93703109720a40c381db51bbcc5e3007.bindPopup%28popup_756cc47298c94eb4a3ead67b40ba5b0e%29%0A%20%20%20%20%20%20%20%20%20%20%20%20%3B%0A%0A%20%20%20%20%20%20%20%20%20%20%20%20%0A%20%20%20%20%20%20%20%20%0A%20%20%20%20%0A%20%20%20%20%20%20%20%20var%20marker_540a702807ce4b2f8ae922bcdc232d7d%20%3D%20L.marker%28%0A%20%20%20%20%20%20%20%20%20%20%20%20%5B37.54062594632972%2C%20126.98427531596764%5D%2C%0A%20%20%20%20%20%20%20%20%20%20%20%20%7B%0A%20%20%20%20%20%20%20%20%20%20%20%20%20%20%20%20icon%3A%20new%20L.Icon.Default%28%29%2C%0A%20%20%20%20%20%20%20%20%20%20%20%20%20%20%20%20%7D%0A%20%20%20%20%20%20%20%20%20%20%20%20%29.addTo%28map_ee0e12e624284583b006b6e5234e554e%29%3B%0A%20%20%20%20%20%20%20%20%0A%20%20%20%20%0A%0A%20%20%20%20%20%20%20%20%20%20%20%20%20%20%20%20var%20icon_e0d611ed8b634290b4942c7570f11827%20%3D%20L.AwesomeMarkers.icon%28%7B%0A%20%20%20%20%20%20%20%20%20%20%20%20%20%20%20%20%20%20%20%20icon%3A%20%27star%27%2C%0A%20%20%20%20%20%20%20%20%20%20%20%20%20%20%20%20%20%20%20%20iconColor%3A%20%27white%27%2C%0A%20%20%20%20%20%20%20%20%20%20%20%20%20%20%20%20%20%20%20%20markerColor%3A%20%27green%27%2C%0A%20%20%20%20%20%20%20%20%20%20%20%20%20%20%20%20%20%20%20%20prefix%3A%20%27glyphicon%27%2C%0A%20%20%20%20%20%20%20%20%20%20%20%20%20%20%20%20%20%20%20%20extraClasses%3A%20%27fa-rotate-0%27%0A%20%20%20%20%20%20%20%20%20%20%20%20%20%20%20%20%20%20%20%20%7D%29%3B%0A%20%20%20%20%20%20%20%20%20%20%20%20%20%20%20%20marker_540a702807ce4b2f8ae922bcdc232d7d.setIcon%28icon_e0d611ed8b634290b4942c7570f11827%29%3B%0A%20%20%20%20%20%20%20%20%20%20%20%20%0A%20%20%20%20%0A%20%20%20%20%20%20%20%20%20%20%20%20var%20popup_6bb81de7fd3d4294ab6aeabec7863169%20%3D%20L.popup%28%7BmaxWidth%3A%20%27100%25%27%0A%20%20%20%20%20%20%20%20%20%20%20%20%0A%20%20%20%20%20%20%20%20%20%20%20%20%7D%29%3B%0A%0A%20%20%20%20%20%20%20%20%20%20%20%20%0A%20%20%20%20%20%20%20%20%20%20%20%20%20%20%20%20var%20html_150892a73f8c41969351671df9160776%20%3D%20%24%28%60%3Cdiv%20id%3D%22html_150892a73f8c41969351671df9160776%22%20style%3D%22width%3A%20100.0%25%3B%20height%3A%20100.0%25%3B%22%3E%EC%A4%91%EA%B0%84%EC%A3%BC%EA%B1%B0%EC%A7%80%EC%A0%90%3C/div%3E%60%29%5B0%5D%3B%0A%20%20%20%20%20%20%20%20%20%20%20%20%20%20%20%20popup_6bb81de7fd3d4294ab6aeabec7863169.setContent%28html_150892a73f8c41969351671df9160776%29%3B%0A%20%20%20%20%20%20%20%20%20%20%20%20%0A%0A%20%20%20%20%20%20%20%20%20%20%20%20marker_540a702807ce4b2f8ae922bcdc232d7d.bindPopup%28popup_6bb81de7fd3d4294ab6aeabec7863169%29%0A%20%20%20%20%20%20%20%20%20%20%20%20%3B%0A%0A%20%20%20%20%20%20%20%20%20%20%20%20%0A%20%20%20%20%20%20%20%20%0A%20%20%20%20%0A%20%20%20%20%20%20%20%20var%20marker_652885025a25468795e0b35f039cad5b%20%3D%20L.marker%28%0A%20%20%20%20%20%20%20%20%20%20%20%20%5B37.54088477574151%2C%20126.98323026505801%5D%2C%0A%20%20%20%20%20%20%20%20%20%20%20%20%7B%0A%20%20%20%20%20%20%20%20%20%20%20%20%20%20%20%20icon%3A%20new%20L.Icon.Default%28%29%2C%0A%20%20%20%20%20%20%20%20%20%20%20%20%20%20%20%20%7D%0A%20%20%20%20%20%20%20%20%20%20%20%20%29.addTo%28map_ee0e12e624284583b006b6e5234e554e%29%3B%0A%20%20%20%20%20%20%20%20%0A%20%20%20%20%0A%0A%20%20%20%20%20%20%20%20%20%20%20%20%20%20%20%20var%20icon_bee6fd4c87ee4f949da909b86858f7b1%20%3D%20L.AwesomeMarkers.icon%28%7B%0A%20%20%20%20%20%20%20%20%20%20%20%20%20%20%20%20%20%20%20%20icon%3A%20%27star%27%2C%0A%20%20%20%20%20%20%20%20%20%20%20%20%20%20%20%20%20%20%20%20iconColor%3A%20%27white%27%2C%0A%20%20%20%20%20%20%20%20%20%20%20%20%20%20%20%20%20%20%20%20markerColor%3A%20%27red%27%2C%0A%20%20%20%20%20%20%20%20%20%20%20%20%20%20%20%20%20%20%20%20prefix%3A%20%27glyphicon%27%2C%0A%20%20%20%20%20%20%20%20%20%20%20%20%20%20%20%20%20%20%20%20extraClasses%3A%20%27fa-rotate-0%27%0A%20%20%20%20%20%20%20%20%20%20%20%20%20%20%20%20%20%20%20%20%7D%29%3B%0A%20%20%20%20%20%20%20%20%20%20%20%20%20%20%20%20marker_652885025a25468795e0b35f039cad5b.setIcon%28icon_bee6fd4c87ee4f949da909b86858f7b1%29%3B%0A%20%20%20%20%20%20%20%20%20%20%20%20%0A%20%20%20%20%0A%20%20%20%20%20%20%20%20%20%20%20%20var%20popup_5d8eaa05f74141168930006cd7fcbfea%20%3D%20L.popup%28%7BmaxWidth%3A%20%27100%25%27%0A%20%20%20%20%20%20%20%20%20%20%20%20%0A%20%20%20%20%20%20%20%20%20%20%20%20%7D%29%3B%0A%0A%20%20%20%20%20%20%20%20%20%20%20%20%0A%20%20%20%20%20%20%20%20%20%20%20%20%20%20%20%20var%20html_0edb04a66ad446878701394722e40c08%20%3D%20%24%28%60%3Cdiv%20id%3D%22html_0edb04a66ad446878701394722e40c08%22%20style%3D%22width%3A%20100.0%25%3B%20height%3A%20100.0%25%3B%22%3E%EC%A4%91%EA%B0%84%EC%A3%BC%EA%B1%B0%EC%A7%80%EC%A0%90%3C/div%3E%60%29%5B0%5D%3B%0A%20%20%20%20%20%20%20%20%20%20%20%20%20%20%20%20popup_5d8eaa05f74141168930006cd7fcbfea.setContent%28html_0edb04a66ad446878701394722e40c08%29%3B%0A%20%20%20%20%20%20%20%20%20%20%20%20%0A%0A%20%20%20%20%20%20%20%20%20%20%20%20marker_652885025a25468795e0b35f039cad5b.bindPopup%28popup_5d8eaa05f74141168930006cd7fcbfea%29%0A%20%20%20%20%20%20%20%20%20%20%20%20%3B%0A%0A%20%20%20%20%20%20%20%20%20%20%20%20%0A%20%20%20%20%20%20%20%20%0A%3C/script%3E onload=\"this.contentDocument.open();this.contentDocument.write(    decodeURIComponent(this.getAttribute('data-html')));this.contentDocument.close();\" allowfullscreen webkitallowfullscreen mozallowfullscreen></iframe></div></div>"
            ],
            "text/plain": [
              "<folium.folium.Map at 0x7fb0d4b15d90>"
            ]
          },
          "execution_count": 460,
          "metadata": {},
          "output_type": "execute_result"
        }
      ],
      "source": [
        "import folium\n",
        "#초기 로딩 위치 = 용산구\n",
        "map_osm = folium.Map(location = [37.547019088096604, 126.96451990527733], zoom_start=15)\n",
        "\n",
        "for item in range(len(e_point)):\n",
        "  folium.Marker([point[item][1],point[item][0]], popup=\"희망시설\").add_to(map_osm)\n",
        "\n",
        "folium.Marker([early[1],early[0]], popup=\"중간주거지점\", icon=folium.Icon('green', icon='star')).add_to(map_osm)\n",
        "folium.Marker([mid[1],mid[0]], popup=\"중간주거지점\", icon=folium.Icon('red', icon='star')).add_to(map_osm)\n",
        "\n",
        "map_osm"
      ]
    },
    {
      "cell_type": "code",
      "execution_count": null,
      "metadata": {
        "id": "6_kqnj5H_-1h"
      },
      "outputs": [],
      "source": []
    }
  ],
  "metadata": {
    "colab": {
      "collapsed_sections": [],
      "name": "모두의 용산구 알고리즘.ipynb",
      "provenance": []
    },
    "kernelspec": {
      "display_name": "Python 3",
      "name": "python3"
    },
    "language_info": {
      "name": "python"
    }
  },
  "nbformat": 4,
  "nbformat_minor": 0
}
